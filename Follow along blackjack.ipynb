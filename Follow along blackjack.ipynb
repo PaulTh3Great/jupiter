{
 "cells": [
  {
   "cell_type": "code",
   "execution_count": 2,
   "metadata": {},
   "outputs": [],
   "source": [
    "import random\n",
    "\n",
    "suits = ('Hearts','Dimonds','Spades','Clubs')\n",
    "\n",
    "ranks = ('Two','Three','Four','Five','Six','Seven','Eight','Nine','Ten','Jack','Queen','King','Ace')\n",
    "\n",
    "# need to fix ace to have value of 11 and one\n",
    "values = {'Two':2,'Three':3,'Four':4,'Five':5,'Six':6,'Seven':7,'Eight':8,'Nine':9,\n",
    "          'Ten':10,'Jack':10,'Queen':10,'King':10,'Ace':11}\n",
    "\n",
    "playing = True"
   ]
  },
  {
   "cell_type": "code",
   "execution_count": 3,
   "metadata": {},
   "outputs": [],
   "source": [
    "class Card:\n",
    "    def __init__(self,suit,rank):\n",
    "        self.suit = suit\n",
    "        self.rank = rank\n",
    "        self.value = values[rank]\n",
    "        \n",
    "    def __str__(self):\n",
    "        return self.rank + ' of ' + self.suit"
   ]
  },
  {
   "cell_type": "code",
   "execution_count": 4,
   "metadata": {},
   "outputs": [],
   "source": [
    "class Deck:\n",
    "    def __init__(self):\n",
    "        self.deck = []\n",
    "        \n",
    "        for suit in suits:\n",
    "            for rank in ranks:\n",
    "                self.deck.append(Card(suit,rank))\n",
    "                \n",
    "    def __str__(self):\n",
    "        deck_comp = ''\n",
    "        for card in self.deck:\n",
    "            deck_comp += '\\n'+ card.__str__()\n",
    "        return 'The deck has: '+deck_comp\n",
    "                \n",
    "    def shuffle(self):\n",
    "        random.shuffle(self.deck)\n",
    "        print('All cards have been shuffled and are ready to Deal')\n",
    "        \n",
    "    def deal(self):\n",
    "        single_card = self.deck.pop()\n",
    "        return single_card"
   ]
  },
  {
   "cell_type": "code",
   "execution_count": 5,
   "metadata": {
    "scrolled": true
   },
   "outputs": [
    {
     "name": "stdout",
     "output_type": "stream",
     "text": [
      "All cards have been shuffled and are ready to Deal\n",
      "The deck has: \n",
      "Eight of Clubs\n",
      "Queen of Clubs\n",
      "Ten of Clubs\n",
      "Queen of Dimonds\n",
      "Five of Hearts\n",
      "Eight of Dimonds\n",
      "Seven of Spades\n",
      "Four of Spades\n",
      "Two of Spades\n",
      "Four of Clubs\n",
      "Six of Hearts\n",
      "Jack of Spades\n",
      "Ace of Dimonds\n",
      "Three of Spades\n",
      "Jack of Clubs\n",
      "Queen of Hearts\n",
      "Ace of Spades\n",
      "Three of Hearts\n",
      "Ten of Spades\n",
      "Six of Clubs\n",
      "Three of Dimonds\n",
      "Eight of Hearts\n",
      "Five of Dimonds\n",
      "Nine of Clubs\n",
      "Two of Clubs\n",
      "Jack of Hearts\n",
      "Three of Clubs\n",
      "Two of Dimonds\n",
      "Queen of Spades\n",
      "Ten of Hearts\n",
      "Seven of Clubs\n",
      "King of Hearts\n",
      "King of Clubs\n",
      "Nine of Dimonds\n",
      "Jack of Dimonds\n",
      "Six of Dimonds\n",
      "Ace of Hearts\n",
      "Nine of Spades\n",
      "Seven of Dimonds\n",
      "Four of Hearts\n",
      "Four of Dimonds\n",
      "Eight of Spades\n",
      "King of Spades\n",
      "Ten of Dimonds\n",
      "Two of Hearts\n",
      "Ace of Clubs\n",
      "Nine of Hearts\n",
      "Seven of Hearts\n",
      "King of Dimonds\n",
      "Six of Spades\n",
      "Five of Spades\n",
      "Five of Clubs\n"
     ]
    }
   ],
   "source": [
    "test_deck = Deck()\n",
    "test_deck.shuffle()\n",
    "print(test_deck)"
   ]
  },
  {
   "cell_type": "code",
   "execution_count": 6,
   "metadata": {},
   "outputs": [],
   "source": [
    "class Hand:\n",
    "    def __init__(self):\n",
    "        self.cards = [] # empty list to add cards into\n",
    "        self.value = 0  # start with zero becuase no cards are in hand\n",
    "        self.aces = 0  # keep track of aces \n",
    "    \n",
    "    def add_card(self,card):\n",
    "        # pass in card\n",
    "        # add the value of the card that is passed in \n",
    "        self.cards.append(card)\n",
    "        self.value += values[card.rank]\n",
    "        \n",
    "        # trtacking aces\n",
    "        if card.rank == 'Ace':\n",
    "            self.aces += 1\n",
    "        \n",
    "    def adjust_for_ace(self):\n",
    "        # if total is higher than 21 and we have an ace then we lower value by 10 ace = 1\n",
    "        # zero is false and anything else is true so when self.aces = 0 that is false / self.aces=1 is True\n",
    "        while self.value > 21 and self.aces:\n",
    "            self.value -= 10\n",
    "            self.aces -= 1"
   ]
  },
  {
   "cell_type": "code",
   "execution_count": 7,
   "metadata": {},
   "outputs": [
    {
     "name": "stdout",
     "output_type": "stream",
     "text": [
      "Five of Clubs\n",
      "5\n"
     ]
    }
   ],
   "source": [
    "# making a player\n",
    "test_player = Hand()\n",
    "# deal 1 card from deck\n",
    "pulled_card = test_deck.deal()\n",
    "print(pulled_card)\n",
    "# add card to player hand\n",
    "test_player.add_card(pulled_card)\n",
    "print(test_player.value)"
   ]
  },
  {
   "cell_type": "code",
   "execution_count": 8,
   "metadata": {},
   "outputs": [],
   "source": [
    "# faster way to do the top\n",
    "test_player.add_card(test_deck.deal())"
   ]
  },
  {
   "cell_type": "code",
   "execution_count": 9,
   "metadata": {},
   "outputs": [
    {
     "data": {
      "text/plain": [
       "10"
      ]
     },
     "execution_count": 9,
     "metadata": {},
     "output_type": "execute_result"
    }
   ],
   "source": [
    "test_player.value"
   ]
  },
  {
   "cell_type": "code",
   "execution_count": 10,
   "metadata": {},
   "outputs": [],
   "source": [
    "class Chips:\n",
    "    def __init__(self,total=100):\n",
    "        self.total = total\n",
    "        self.bet = 0\n",
    "        \n",
    "    def win_bet(self):\n",
    "        self.total += self.bet\n",
    "        \n",
    "    def lose_bet(self):\n",
    "        self.total -= self.bet"
   ]
  },
  {
   "cell_type": "code",
   "execution_count": 11,
   "metadata": {},
   "outputs": [],
   "source": [
    "def take_bet(chips):\n",
    "    while True:\n",
    "        try:\n",
    "            chips.bet = int(input('How many chips would you like to bet?'))\n",
    "        except:\n",
    "            print('Please enter a number')\n",
    "        else:\n",
    "            if chips.bet > chips.total:\n",
    "                print(f'Sorry not enough chips you only have: {chips.total}')\n",
    "            else:\n",
    "                break"
   ]
  },
  {
   "cell_type": "code",
   "execution_count": 12,
   "metadata": {},
   "outputs": [],
   "source": [
    "def hit (deck,hand):\n",
    "    single_card = deck.deal()\n",
    "    hand.add_card(single_card)\n",
    "    hand.adjust_for_ace()"
   ]
  },
  {
   "cell_type": "code",
   "execution_count": 13,
   "metadata": {},
   "outputs": [],
   "source": [
    "def hit_or_stand(deck,hand):\n",
    "    global playing\n",
    "    \n",
    "    while True:\n",
    "        x = input('Hit or Stand? Enter h or s')\n",
    "        \n",
    "        if x[0].lower() == 'h':\n",
    "            hit(deck,hand)\n",
    "            \n",
    "        elif x[0].lower() == 's':\n",
    "            print('Player Stands Dealers Turn')\n",
    "            playing = False\n",
    "            \n",
    "        else:\n",
    "            print('Sorry I dont under stand that enter h or s')\n",
    "            continue\n",
    "        break"
   ]
  },
  {
   "cell_type": "code",
   "execution_count": 14,
   "metadata": {},
   "outputs": [],
   "source": [
    "def show_some(player,dealer):\n",
    "    # 2 of player 1 of dealer\n",
    "    print('\\n Dealers hand:')\n",
    "    print('First card hidden')\n",
    "    print(dealer.cards[1])\n",
    "    \n",
    "    # now show player\n",
    "    print('Players Hand')\n",
    "    for card in player.cards:\n",
    "        print(card)\n",
    "    \n",
    "def show_all(player,dealer):\n",
    "    \n",
    "    print('Dealers Hand')\n",
    "    for card in dealer.cards:\n",
    "        print(card)\n",
    "    print(f'Value for Dealer is: {dealer.value}')    \n",
    "        \n",
    "    print('Players Hand')\n",
    "    for card in player.cards:\n",
    "        print(card)\n",
    "    print(f'Value for Player is: {player.value}')"
   ]
  },
  {
   "cell_type": "code",
   "execution_count": 15,
   "metadata": {},
   "outputs": [
    {
     "name": "stdout",
     "output_type": "stream",
     "text": [
      "the numbers are: \n",
      "1\n",
      "2\n",
      "3\n"
     ]
    }
   ],
   "source": [
    "# side note for displaying extra things in print statement\n",
    "items = [1,2,3]\n",
    "\n",
    "print('the numbers are: ',*items,sep='\\n')"
   ]
  },
  {
   "cell_type": "code",
   "execution_count": 16,
   "metadata": {},
   "outputs": [],
   "source": [
    "def player_busts(player,dealer,chips):\n",
    "    print('Player has busted')\n",
    "    chips.lose_bet()\n",
    "    \n",
    "def player_wins(player,dealer,chips):\n",
    "    print('Player wins')\n",
    "    chips.win_bet()\n",
    "    \n",
    "def dealer_bust(player,dealer,chips):\n",
    "    print('Player wins dealer busted')\n",
    "    chips.win_bet()\n",
    "    \n",
    "def dealer_wins(player,dealer,chips):\n",
    "    print('Dealer wins')\n",
    "    chips.lose_bet()\n",
    "    \n",
    "def push(player,dealer):\n",
    "    print('Player and Dealer tie')\n",
    "\n"
   ]
  },
  {
   "cell_type": "code",
   "execution_count": 19,
   "metadata": {},
   "outputs": [
    {
     "name": "stdout",
     "output_type": "stream",
     "text": [
      "welcome to black jack\n",
      "All cards have been shuffled and are ready to Deal\n",
      "How many chips would you like to bet?50\n",
      "\n",
      " Dealers hand:\n",
      "First card hidden\n",
      "Four of Spades\n",
      "Players Hand\n",
      "King of Clubs\n",
      "Nine of Dimonds\n",
      "Hit or Stand? Enter h or sh\n",
      "\n",
      " Dealers hand:\n",
      "First card hidden\n",
      "Four of Spades\n",
      "Players Hand\n",
      "King of Clubs\n",
      "Nine of Dimonds\n",
      "Five of Spades\n",
      "Player has busted\n",
      "\n",
      " Player total chips are at 50\n",
      "would you like to play another hand? y/nn\n",
      "TY for playing\n"
     ]
    }
   ],
   "source": [
    "while True:\n",
    "    # welcome statement\n",
    "    print('welcome to black jack')\n",
    "    \n",
    "    # create a shuffle deck\n",
    "    deck = Deck()\n",
    "    deck.shuffle()\n",
    "    \n",
    "    # create player and draw 2 cards\n",
    "    player_hand = Hand()\n",
    "    player_hand.add_card(deck.deal())\n",
    "    player_hand.add_card(deck.deal())\n",
    "    \n",
    "    # create dealer and draw 2 cards\n",
    "    dealer_hand = Hand()\n",
    "    dealer_hand.add_card(deck.deal())\n",
    "    dealer_hand.add_card(deck.deal())\n",
    "    \n",
    "    # set up chips\n",
    "    \n",
    "    player_chips = Chips()\n",
    "    \n",
    "    # ask for bet\n",
    "    take_bet(player_chips)\n",
    "    \n",
    "    # show cards\n",
    "    show_some(player_hand,dealer_hand)\n",
    "    \n",
    "    while playing:\n",
    "        \n",
    "        # ask player to hit or stand\n",
    "        hit_or_stand(deck,player_hand)\n",
    "        \n",
    "        # show cards\n",
    "        show_some(player_hand,dealer_hand)\n",
    "        \n",
    "        # higher then 21 run player bust\n",
    "        if player_hand.value > 21:\n",
    "            player_busts(player_hand,dealer_hand,player_chips)\n",
    "            break\n",
    "    # if player hasn't busted dealer play until 17       \n",
    "    if player_hand.value <= 21:\n",
    "        \n",
    "        while dealer_hand.value < player_hand.value:\n",
    "            hit(deck,dealer_hand)\n",
    "        \n",
    "        # show all cards\n",
    "        show_all(player_hand,dealer_hand)\n",
    "        \n",
    "        if dealer_hand.value > 21:\n",
    "            dealer_bust(player_hand,dealer_hand,player_chips)\n",
    "        elif dealer_hand.value > player_hand.value:\n",
    "            dealer_wins(player_hand,dealer_hand,player_chips)\n",
    "        elif dealer_hand.value < player_hand.value:\n",
    "            player_wins(player_hand,dealer_hand,player_chips)\n",
    "        else:\n",
    "            push(player_hand,dealer_hand)\n",
    "        \n",
    "    print(f'\\n Player total chips are at {player_chips.total}')\n",
    "    \n",
    "    new_game = input('would you like to play another hand? y/n')\n",
    "    \n",
    "    if new_game[0].lower() == 'y':\n",
    "        playing = True\n",
    "        continue\n",
    "    else:\n",
    "        print('TY for playing')\n",
    "        break\n",
    "        \n",
    "        \n",
    "        \n",
    "        "
   ]
  },
  {
   "cell_type": "code",
   "execution_count": null,
   "metadata": {},
   "outputs": [],
   "source": []
  }
 ],
 "metadata": {
  "kernelspec": {
   "display_name": "Python 3",
   "language": "python",
   "name": "python3"
  },
  "language_info": {
   "codemirror_mode": {
    "name": "ipython",
    "version": 3
   },
   "file_extension": ".py",
   "mimetype": "text/x-python",
   "name": "python",
   "nbconvert_exporter": "python",
   "pygments_lexer": "ipython3",
   "version": "3.8.5"
  }
 },
 "nbformat": 4,
 "nbformat_minor": 4
}
