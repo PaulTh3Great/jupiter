{
 "cells": [
  {
   "cell_type": "code",
   "execution_count": null,
   "metadata": {},
   "outputs": [],
   "source": [
    "# grab all the info to display\n",
    "# number of guest \n",
    "\n",
    "def getinfo(all_entries):\n",
    "    name = input('Guest Name:')\n",
    "    \n",
    "    p_number = input('Phone Number:')\n",
    "    \n",
    "    is_ford = input('Yes or No').upper()\n",
    "    \n",
    "    ro = input('RO number:')\n",
    "    \n",
    "    user_info = {\n",
    "        'Name' : name,\n",
    "        'Phone Number' : p_number,\n",
    "        'Is Ford' : is_ford,\n",
    "        'RO' : ro,\n",
    "    }\n",
    "    \n",
    "    # bottom line works for returning all vars with saved info\n",
    "    # return name, p_number, is_food, ro, guest_number + 1, user_info\n",
    "    \n",
    "    # format the information to look nice\n",
    "    if guest_number > 0:\n",
    "        for entry in user_info:\n",
    "            newadd = {'Name': entry[0], 'Phone Number': entry[1], 'Is Ford':entry[2],'RO':entry[3]}\n",
    "            all_entries.append(newadd)\n",
    "        return all_entries, guest_number + 1\n",
    "        \n",
    "    else:\n",
    "        return user_info, guest_number +1\n",
    "    # save for later  \n",
    "    # formatted_user_info = {key.rjust(10):value.rjust(10) for key,value in user_info.items()}\n",
    "    \n",
    "    \n",
    "    \n",
    "    "
   ]
  },
  {
   "cell_type": "code",
   "execution_count": 15,
   "metadata": {},
   "outputs": [],
   "source": [
    "def getinfo(all_entries):\n",
    "    name = input('Guest Name:')\n",
    "    \n",
    "    p_number = input('Phone Number:')\n",
    "    \n",
    "    is_ford = input('Yes or No').upper()\n",
    "    \n",
    "    ro = input('RO number:')\n",
    "    \n",
    "    user_info = {\n",
    "        'Name' : name,\n",
    "        'Phone Number' : p_number,\n",
    "        'Is Ford' : is_ford,\n",
    "        'RO' : ro,\n",
    "    }\n",
    "    \n",
    "    formatted_user_info = {key.rjust(10):value.rjust(10) for key,value in user_info.items()}\n",
    "\n",
    "    user_info_copy = formatted_user_info.copy()\n",
    "    all_entries.append(user_info_copy)\n",
    "    \n",
    "    \n",
    "    return all_entries, guest_number + 1\n",
    "    "
   ]
  },
  {
   "cell_type": "code",
   "execution_count": 14,
   "metadata": {},
   "outputs": [
    {
     "name": "stdout",
     "output_type": "stream",
     "text": [
      "Guest Name:paul avalos\n",
      "Phone Number:210\n",
      "Yes or Noyes\n",
      "RO number:190\n"
     ]
    },
    {
     "ename": "AttributeError",
     "evalue": "'list' object has no attribute 'items'",
     "output_type": "error",
     "traceback": [
      "\u001b[0;31m---------------------------------------------------------------------------\u001b[0m",
      "\u001b[0;31mAttributeError\u001b[0m                            Traceback (most recent call last)",
      "\u001b[0;32m<ipython-input-14-b8b08c03e513>\u001b[0m in \u001b[0;36m<module>\u001b[0;34m\u001b[0m\n\u001b[1;32m      8\u001b[0m \u001b[0;31m# add list of dicts to append them\u001b[0m\u001b[0;34m\u001b[0m\u001b[0;34m\u001b[0m\u001b[0;34m\u001b[0m\u001b[0m\n\u001b[1;32m      9\u001b[0m \u001b[0mall_entries\u001b[0m \u001b[0;34m=\u001b[0m \u001b[0;34m[\u001b[0m\u001b[0;34m]\u001b[0m\u001b[0;34m\u001b[0m\u001b[0;34m\u001b[0m\u001b[0m\n\u001b[0;32m---> 10\u001b[0;31m \u001b[0muser_info\u001b[0m\u001b[0;34m,\u001b[0m \u001b[0mguest_number\u001b[0m \u001b[0;34m=\u001b[0m \u001b[0mgetinfo\u001b[0m\u001b[0;34m(\u001b[0m\u001b[0mall_entries\u001b[0m\u001b[0;34m)\u001b[0m\u001b[0;34m\u001b[0m\u001b[0;34m\u001b[0m\u001b[0m\n\u001b[0m",
      "\u001b[0;32m<ipython-input-13-c15102e2ce72>\u001b[0m in \u001b[0;36mgetinfo\u001b[0;34m(all_entries)\u001b[0m\n\u001b[1;32m     18\u001b[0m     \u001b[0mall_entries\u001b[0m\u001b[0;34m.\u001b[0m\u001b[0mappend\u001b[0m\u001b[0;34m(\u001b[0m\u001b[0muser_info_copy\u001b[0m\u001b[0;34m)\u001b[0m\u001b[0;34m\u001b[0m\u001b[0;34m\u001b[0m\u001b[0m\n\u001b[1;32m     19\u001b[0m \u001b[0;34m\u001b[0m\u001b[0m\n\u001b[0;32m---> 20\u001b[0;31m     \u001b[0mformatted_user_info\u001b[0m \u001b[0;34m=\u001b[0m \u001b[0;34m{\u001b[0m\u001b[0mkey\u001b[0m\u001b[0;34m.\u001b[0m\u001b[0mrjust\u001b[0m\u001b[0;34m(\u001b[0m\u001b[0;36m10\u001b[0m\u001b[0;34m)\u001b[0m\u001b[0;34m:\u001b[0m\u001b[0mvalue\u001b[0m\u001b[0;34m.\u001b[0m\u001b[0mrjust\u001b[0m\u001b[0;34m(\u001b[0m\u001b[0;36m10\u001b[0m\u001b[0;34m)\u001b[0m \u001b[0;32mfor\u001b[0m \u001b[0mkey\u001b[0m\u001b[0;34m,\u001b[0m\u001b[0mvalue\u001b[0m \u001b[0;32min\u001b[0m \u001b[0mall_entries\u001b[0m\u001b[0;34m.\u001b[0m\u001b[0mitems\u001b[0m\u001b[0;34m(\u001b[0m\u001b[0;34m)\u001b[0m\u001b[0;34m}\u001b[0m\u001b[0;34m\u001b[0m\u001b[0;34m\u001b[0m\u001b[0m\n\u001b[0m\u001b[1;32m     21\u001b[0m \u001b[0;34m\u001b[0m\u001b[0m\n\u001b[1;32m     22\u001b[0m     \u001b[0;32mreturn\u001b[0m \u001b[0mformatted_user_info\u001b[0m\u001b[0;34m,\u001b[0m \u001b[0mguest_number\u001b[0m \u001b[0;34m+\u001b[0m \u001b[0;36m1\u001b[0m\u001b[0;34m\u001b[0m\u001b[0;34m\u001b[0m\u001b[0m\n",
      "\u001b[0;31mAttributeError\u001b[0m: 'list' object has no attribute 'items'"
     ]
    }
   ],
   "source": [
    "# old tupple unpacking for def\n",
    "# name, p_number, is_ford, ro, guest_number, user_info = getinfo()\n",
    "\n",
    "# new return vsriable\n",
    "\n",
    "guest_number = 0\n",
    "job_complete = ('No')\n",
    "# add list of dicts to append them\n",
    "all_entries = []\n",
    "user_info, guest_number = getinfo(all_entries)"
   ]
  },
  {
   "cell_type": "code",
   "execution_count": 3,
   "metadata": {},
   "outputs": [
    {
     "data": {
      "text/plain": [
       "[{'Name': 'paul', 'Phone Number': '210', 'Is Ford': 'YES', 'RO': '190'}]"
      ]
     },
     "execution_count": 3,
     "metadata": {},
     "output_type": "execute_result"
    }
   ],
   "source": [
    "all_entries"
   ]
  },
  {
   "cell_type": "code",
   "execution_count": 4,
   "metadata": {},
   "outputs": [
    {
     "data": {
      "text/plain": [
       "[{'Name': 'paul', 'Phone Number': '210', 'Is Ford': 'YES', 'RO': '190'}]"
      ]
     },
     "execution_count": 4,
     "metadata": {},
     "output_type": "execute_result"
    }
   ],
   "source": [
    "user_info"
   ]
  },
  {
   "cell_type": "code",
   "execution_count": 5,
   "metadata": {},
   "outputs": [
    {
     "data": {
      "text/plain": [
       "1"
      ]
     },
     "execution_count": 5,
     "metadata": {},
     "output_type": "execute_result"
    }
   ],
   "source": [
    "guest_number"
   ]
  },
  {
   "cell_type": "code",
   "execution_count": 6,
   "metadata": {},
   "outputs": [
    {
     "name": "stdout",
     "output_type": "stream",
     "text": [
      "Guest Name:pablo\n",
      "Phone Number:211\n",
      "Yes or Nono\n",
      "RO number:191\n"
     ]
    }
   ],
   "source": [
    "user_info, guest_number = getinfo(all_entries)"
   ]
  },
  {
   "cell_type": "code",
   "execution_count": 7,
   "metadata": {},
   "outputs": [
    {
     "data": {
      "text/plain": [
       "[{'Name': 'paul', 'Phone Number': '210', 'Is Ford': 'YES', 'RO': '190'},\n",
       " {'Name': 'pablo', 'Phone Number': '211', 'Is Ford': 'NO', 'RO': '191'}]"
      ]
     },
     "execution_count": 7,
     "metadata": {},
     "output_type": "execute_result"
    }
   ],
   "source": [
    "all_entries"
   ]
  },
  {
   "cell_type": "code",
   "execution_count": 8,
   "metadata": {},
   "outputs": [
    {
     "data": {
      "text/plain": [
       "[{'Name': 'paul', 'Phone Number': '210', 'Is Ford': 'YES', 'RO': '190'},\n",
       " {'Name': 'pablo', 'Phone Number': '211', 'Is Ford': 'NO', 'RO': '191'}]"
      ]
     },
     "execution_count": 8,
     "metadata": {},
     "output_type": "execute_result"
    }
   ],
   "source": [
    "user_info"
   ]
  },
  {
   "cell_type": "code",
   "execution_count": 16,
   "metadata": {},
   "outputs": [
    {
     "name": "stdout",
     "output_type": "stream",
     "text": [
      "paul avalos\n",
      "210\n",
      "YES\n",
      "190\n"
     ]
    }
   ],
   "source": [
    "for index in range(len(all_entries)):\n",
    "    for key in all_entries[index]:\n",
    "        print(all_entries[index][key])"
   ]
  },
  {
   "cell_type": "code",
   "execution_count": 9,
   "metadata": {},
   "outputs": [
    {
     "data": {
      "text/plain": [
       "2"
      ]
     },
     "execution_count": 9,
     "metadata": {},
     "output_type": "execute_result"
    }
   ],
   "source": [
    "guest_number"
   ]
  },
  {
   "cell_type": "code",
   "execution_count": null,
   "metadata": {},
   "outputs": [],
   "source": []
  },
  {
   "cell_type": "code",
   "execution_count": null,
   "metadata": {},
   "outputs": [],
   "source": [
    "guest_number"
   ]
  },
  {
   "cell_type": "code",
   "execution_count": null,
   "metadata": {
    "scrolled": true
   },
   "outputs": [],
   "source": [
    "user_info"
   ]
  },
  {
   "cell_type": "code",
   "execution_count": null,
   "metadata": {},
   "outputs": [],
   "source": [
    "formatted_user_info = {key.rjust(10):value.rjust(10) for key,value in user_info.items()}"
   ]
  },
  {
   "cell_type": "code",
   "execution_count": null,
   "metadata": {},
   "outputs": [],
   "source": [
    "formatted_user_info"
   ]
  },
  {
   "cell_type": "code",
   "execution_count": null,
   "metadata": {},
   "outputs": [],
   "source": []
  },
  {
   "cell_type": "code",
   "execution_count": null,
   "metadata": {},
   "outputs": [],
   "source": [
    "print('Name    |    Phone Number    |    Is A Ford    |    RO#    ')\n",
    "print('-----------------------------------------------------------------')\n",
    "for keys in user_info:\n",
    "    print(user_info[keys], sep='', end='    |    ', flush=True)"
   ]
  },
  {
   "cell_type": "code",
   "execution_count": null,
   "metadata": {},
   "outputs": [],
   "source": [
    "print('       Name     |       Phone Number       |    Is A Ford    |    RO#    ')\n",
    "print('-----------------------------------------------------------------')\n",
    "for keys in formatted_user_info:\n",
    "    print(formatted_user_info[keys], sep='', end='    |    ', flush=True)"
   ]
  },
  {
   "cell_type": "code",
   "execution_count": null,
   "metadata": {},
   "outputs": [],
   "source": []
  },
  {
   "cell_type": "code",
   "execution_count": null,
   "metadata": {},
   "outputs": [],
   "source": []
  },
  {
   "cell_type": "code",
   "execution_count": null,
   "metadata": {},
   "outputs": [],
   "source": [
    "def create_guest(name, p_number, is_food, ro, guest_number, user_info):\n",
    "    name"
   ]
  }
 ],
 "metadata": {
  "kernelspec": {
   "display_name": "Python 3",
   "language": "python",
   "name": "python3"
  },
  "language_info": {
   "codemirror_mode": {
    "name": "ipython",
    "version": 3
   },
   "file_extension": ".py",
   "mimetype": "text/x-python",
   "name": "python",
   "nbconvert_exporter": "python",
   "pygments_lexer": "ipython3",
   "version": "3.8.5"
  }
 },
 "nbformat": 4,
 "nbformat_minor": 4
}
