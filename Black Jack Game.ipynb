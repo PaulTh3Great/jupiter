{
 "cells": [
  {
   "cell_type": "code",
   "execution_count": 5,
   "metadata": {},
   "outputs": [],
   "source": [
    "import random\n",
    "\n",
    "suits = ('Hearts','Dimonds','Spades','Clubs')\n",
    "\n",
    "ranks = ('Two','Three','Four','Five','Six','Seven','Eight','Nine','Ten','Jack','Queen','King','Ace')\n",
    "\n",
    "# need to fix ace to have value of 11 and one\n",
    "values = {'Two':2,'Three':3,'Four':4,'Five':5,'Six':6,'Seven':7,'Eight':8,'Nine':9,\n",
    "          'Ten':10,'Jack':10,'Queen':10,'King':10,'Ace':11}"
   ]
  },
  {
   "cell_type": "code",
   "execution_count": 6,
   "metadata": {},
   "outputs": [],
   "source": [
    "class Card:\n",
    "    def __init__(self,suit,rank):\n",
    "        self.suit = suit\n",
    "        self.rank = rank\n",
    "        self.value = values[rank]\n",
    "        \n",
    "    def __str__(self):\n",
    "        return self.rank + ' of ' + self.suit"
   ]
  },
  {
   "cell_type": "code",
   "execution_count": null,
   "metadata": {},
   "outputs": [],
   "source": [
    "mycard = Card('Hearts','Two')"
   ]
  },
  {
   "cell_type": "code",
   "execution_count": null,
   "metadata": {},
   "outputs": [],
   "source": [
    "mycard.rank"
   ]
  },
  {
   "cell_type": "code",
   "execution_count": null,
   "metadata": {},
   "outputs": [],
   "source": [
    "mycard.suit"
   ]
  },
  {
   "cell_type": "code",
   "execution_count": null,
   "metadata": {},
   "outputs": [],
   "source": [
    "mycard.value"
   ]
  },
  {
   "cell_type": "code",
   "execution_count": null,
   "metadata": {},
   "outputs": [],
   "source": [
    "print(mycard)"
   ]
  },
  {
   "cell_type": "code",
   "execution_count": null,
   "metadata": {},
   "outputs": [],
   "source": []
  },
  {
   "cell_type": "code",
   "execution_count": 7,
   "metadata": {},
   "outputs": [],
   "source": [
    "class Deck:\n",
    "    def __init__(self):\n",
    "        self.all_cards = []\n",
    "        \n",
    "        for suit in suits:\n",
    "            for rank in ranks:\n",
    "                created_card = Card(suit,rank)\n",
    "                self.all_cards.append(created_card)\n",
    "                \n",
    "    def shuffle(self):\n",
    "        random.shuffle(self.all_cards)\n",
    "        \n",
    "    def deal_one(self):\n",
    "        return self.all_cards.pop()"
   ]
  },
  {
   "cell_type": "code",
   "execution_count": null,
   "metadata": {},
   "outputs": [],
   "source": []
  },
  {
   "cell_type": "code",
   "execution_count": 63,
   "metadata": {},
   "outputs": [],
   "source": [
    "mydeck = Deck()"
   ]
  },
  {
   "cell_type": "code",
   "execution_count": 64,
   "metadata": {},
   "outputs": [
    {
     "data": {
      "text/plain": [
       "52"
      ]
     },
     "execution_count": 64,
     "metadata": {},
     "output_type": "execute_result"
    }
   ],
   "source": [
    "len(mydeck.all_cards)"
   ]
  },
  {
   "cell_type": "code",
   "execution_count": 49,
   "metadata": {
    "scrolled": true
   },
   "outputs": [
    {
     "name": "stdout",
     "output_type": "stream",
     "text": [
      "Two of Hearts\n",
      "Three of Hearts\n",
      "Four of Hearts\n",
      "Five of Hearts\n",
      "Six of Hearts\n",
      "Seven of Hearts\n",
      "Eight of Hearts\n",
      "Nine of Hearts\n",
      "Ten of Hearts\n",
      "Jack of Hearts\n",
      "Queen of Hearts\n",
      "King of Hearts\n",
      "Ace of Hearts\n",
      "Two of Dimonds\n",
      "Three of Dimonds\n",
      "Four of Dimonds\n",
      "Five of Dimonds\n",
      "Six of Dimonds\n",
      "Seven of Dimonds\n",
      "Eight of Dimonds\n",
      "Nine of Dimonds\n",
      "Ten of Dimonds\n",
      "Jack of Dimonds\n",
      "Queen of Dimonds\n",
      "King of Dimonds\n",
      "Ace of Dimonds\n",
      "Two of Spades\n",
      "Three of Spades\n",
      "Four of Spades\n",
      "Five of Spades\n",
      "Six of Spades\n",
      "Seven of Spades\n",
      "Eight of Spades\n",
      "Nine of Spades\n",
      "Ten of Spades\n",
      "Jack of Spades\n",
      "Queen of Spades\n",
      "King of Spades\n",
      "Ace of Spades\n",
      "Two of Clubs\n",
      "Three of Clubs\n",
      "Four of Clubs\n",
      "Five of Clubs\n",
      "Six of Clubs\n",
      "Seven of Clubs\n",
      "Eight of Clubs\n",
      "Nine of Clubs\n",
      "Ten of Clubs\n",
      "Jack of Clubs\n",
      "Queen of Clubs\n",
      "King of Clubs\n",
      "Ace of Clubs\n"
     ]
    }
   ],
   "source": [
    "for cards in mydeck.all_cards:\n",
    "    print(cards)"
   ]
  },
  {
   "cell_type": "code",
   "execution_count": 50,
   "metadata": {},
   "outputs": [],
   "source": [
    "mydeck.shuffle()"
   ]
  },
  {
   "cell_type": "code",
   "execution_count": 51,
   "metadata": {},
   "outputs": [
    {
     "data": {
      "text/plain": [
       "<__main__.Card at 0x7fb7e9beccd0>"
      ]
     },
     "execution_count": 51,
     "metadata": {},
     "output_type": "execute_result"
    }
   ],
   "source": [
    "mydeck.deal_one()"
   ]
  },
  {
   "cell_type": "code",
   "execution_count": 52,
   "metadata": {},
   "outputs": [
    {
     "data": {
      "text/plain": [
       "51"
      ]
     },
     "execution_count": 52,
     "metadata": {},
     "output_type": "execute_result"
    }
   ],
   "source": [
    "len(mydeck.all_cards)"
   ]
  },
  {
   "cell_type": "code",
   "execution_count": null,
   "metadata": {},
   "outputs": [],
   "source": []
  },
  {
   "cell_type": "code",
   "execution_count": null,
   "metadata": {},
   "outputs": [],
   "source": []
  },
  {
   "cell_type": "code",
   "execution_count": null,
   "metadata": {},
   "outputs": [],
   "source": [
    "class Player:\n",
    "    \n",
    "    def __init__(self,name,cash):\n",
    "        self.name = name\n",
    "        self.cash = cash\n",
    "        # create new empty list for players\n",
    "        self.all_cards = []\n",
    "        \n",
    "    def hand(self):\n",
    "        \n",
    "    \n",
    "    def rebuy(self):\n",
    "        amount = int(input(f'How much would you like to rebuy in with?'))\n",
    "        self.cash += amount\n",
    "        \n",
    "    def bet(self):\n",
    "        bet_amount = int(input('How much woud you like to bet?'))\n",
    "        "
   ]
  },
  {
   "cell_type": "code",
   "execution_count": null,
   "metadata": {},
   "outputs": [],
   "source": [
    "myplayer = Player('Paul',1000)"
   ]
  },
  {
   "cell_type": "code",
   "execution_count": null,
   "metadata": {},
   "outputs": [],
   "source": [
    "myplayer.cash"
   ]
  },
  {
   "cell_type": "code",
   "execution_count": null,
   "metadata": {},
   "outputs": [],
   "source": [
    "myplayer.name"
   ]
  },
  {
   "cell_type": "code",
   "execution_count": null,
   "metadata": {},
   "outputs": [],
   "source": [
    "myplayer.rebuy()"
   ]
  },
  {
   "cell_type": "code",
   "execution_count": null,
   "metadata": {},
   "outputs": [],
   "source": [
    "myplayer.cash"
   ]
  },
  {
   "cell_type": "code",
   "execution_count": null,
   "metadata": {
    "scrolled": true
   },
   "outputs": [],
   "source": [
    "game_on = True\n",
    "while game_on:\n",
    "    \n",
    "    print('WELCOME TO BLACK JACK')\n",
    "\n",
    "    player_name = input(f'What is your name?')\n",
    "    cash = int(input(f'How much money would you like to start with?'))\n",
    "    player_one = Player(player_name,cash)\n",
    "\n",
    "\n",
    "    new_deck = Deck()\n",
    "    new_deck.shuffle()\n",
    "    \n",
    "    if cash < 5:\n",
    "        print('Not enought money for a bet')\n",
    "        myplayer.rebuy()\n",
    "        cash += player_one.cash\n",
    "        print(cash)\n",
    "    #choice = input(f'What would you like to do? 1 = Deal 2 = Cash Out')\n",
    "    \n",
    "    #if choice == 1:\n",
    "        #player_hand = []\n",
    "\n"
   ]
  },
  {
   "cell_type": "code",
   "execution_count": 16,
   "metadata": {
    "scrolled": true
   },
   "outputs": [
    {
     "name": "stdout",
     "output_type": "stream",
     "text": [
      "WELCOME TO BLACK JACK\n",
      "What is your name?Paul Avalos\n",
      "How much money would you like to start with?1000\n"
     ]
    },
    {
     "ename": "NameError",
     "evalue": "name 'choice' is not defined",
     "output_type": "error",
     "traceback": [
      "\u001b[0;31m---------------------------------------------------------------------------\u001b[0m",
      "\u001b[0;31mNameError\u001b[0m                                 Traceback (most recent call last)",
      "\u001b[0;32m<ipython-input-16-cf6559130d9d>\u001b[0m in \u001b[0;36m<module>\u001b[0;34m\u001b[0m\n\u001b[1;32m     12\u001b[0m \u001b[0;34m\u001b[0m\u001b[0m\n\u001b[1;32m     13\u001b[0m \u001b[0;34m\u001b[0m\u001b[0m\n\u001b[0;32m---> 14\u001b[0;31m     \u001b[0;32mwhile\u001b[0m \u001b[0mchoice\u001b[0m \u001b[0;34m==\u001b[0m \u001b[0;34m'1'\u001b[0m\u001b[0;34m:\u001b[0m\u001b[0;34m\u001b[0m\u001b[0;34m\u001b[0m\u001b[0m\n\u001b[0m\u001b[1;32m     15\u001b[0m         \u001b[0mbet_amount\u001b[0m \u001b[0;34m=\u001b[0m \u001b[0mint\u001b[0m\u001b[0;34m(\u001b[0m\u001b[0minput\u001b[0m\u001b[0;34m(\u001b[0m\u001b[0;34m'how much would you like to bet'\u001b[0m\u001b[0;34m)\u001b[0m\u001b[0;34m)\u001b[0m\u001b[0;34m\u001b[0m\u001b[0;34m\u001b[0m\u001b[0m\n\u001b[1;32m     16\u001b[0m         \u001b[0mprint\u001b[0m\u001b[0;34m(\u001b[0m\u001b[0;34mf'Ok betting {bet_amount} Good Luck'\u001b[0m\u001b[0;34m)\u001b[0m\u001b[0;34m\u001b[0m\u001b[0;34m\u001b[0m\u001b[0m\n",
      "\u001b[0;31mNameError\u001b[0m: name 'choice' is not defined"
     ]
    }
   ],
   "source": [
    "# old one\n",
    "game_on = True\n",
    "while game_on:\n",
    "    \n",
    "    print('WELCOME TO BLACK JACK')\n",
    "\n",
    "    player_name = input(f'What is your name?')\n",
    "    cash = int(input(f'How much money would you like to start with?'))\n",
    "    \n",
    "    new_deck = Deck()\n",
    "    new_deck.shuffle()\n",
    "\n",
    "\n",
    "    while choice == '1':\n",
    "        bet_amount = int(input('how much would you like to bet'))\n",
    "        print(f'Ok betting {bet_amount} Good Luck')\n",
    "        player_hand = []\n",
    "        dealer_hand = []\n",
    "        # pulled hands is full to extend back to deck\n",
    "        pulled_cards = []\n",
    "        for cards in range(4):\n",
    "            pulled_cards.append(new_deck.deal_one())\n",
    "\n",
    "        player_hand.append(pulled_cards[0])\n",
    "        dealer_hand.append(pulled_cards[1])\n",
    "        player_hand.append(pulled_cards[2])\n",
    "        dealer_hand.append(pulled_cards[3])\n",
    "\n",
    "\n",
    "        print(*player_hand, sep = ',')\n",
    "        player_total = player_hand[0].value + player_hand[1].value\n",
    "        print(*dealer_hand, sep = ',')\n",
    "        dealer_total = dealer_hand[0].value + dealer_hand[1].value\n",
    "        \n",
    "        print(f'You have:{player_total}\\n Dealer has:{dealer_total}')\n",
    "\n",
    "    if player_total == 21:\n",
    "        print('Congrats you have Black Jack')\n",
    "        bet_amount *= 1.5\n",
    "        cash += bet_amount\n",
    "        print(f'You have won {bet_amount} and you currently have {cash} in total')\n",
    "        new_deck.extend(pulled_cards)\n",
    "        new_deck.shuffle\n",
    "            \n",
    "            \n",
    "    else:\n",
    "        while True:\n",
    "            choice1 = input('Would you like to hit or stay?')\n",
    "            if choice.capitalize == 'Hit':\n",
    "                pulled_cards.append(new_deck.deal_one())\n",
    "                    \n",
    "\n",
    "\n",
    "        \n",
    "        \n",
    "\n"
   ]
  },
  {
   "cell_type": "code",
   "execution_count": 75,
   "metadata": {},
   "outputs": [],
   "source": [
    "new_deck = Deck()"
   ]
  },
  {
   "cell_type": "code",
   "execution_count": 80,
   "metadata": {},
   "outputs": [
    {
     "name": "stdout",
     "output_type": "stream",
     "text": [
      "Six of Clubs,Four of Clubs\n",
      "Five of Clubs,Three of Clubs\n",
      "You have:10\n",
      " Dealer has:8\n"
     ]
    }
   ],
   "source": [
    "        \n",
    "        player_hand = []\n",
    "        dealer_hand = []\n",
    "        # pulled hands is full to extend back to deck\n",
    "        pulled_cards = []\n",
    "        for cards in range(4):\n",
    "            pulled_cards.append(new_deck.deal_one())\n",
    "\n",
    "        player_hand.append(pulled_cards[0])\n",
    "        dealer_hand.append(pulled_cards[1])\n",
    "        player_hand.append(pulled_cards[2])\n",
    "        dealer_hand.append(pulled_cards[3])\n",
    "\n",
    "\n",
    "        print(*player_hand, sep = ',')\n",
    "        player_total = player_hand[0].value + player_hand[1].value\n",
    "        print(*dealer_hand, sep = ',')\n",
    "        dealer_total = dealer_hand[0].value + dealer_hand[1].value\n",
    "        \n",
    "        print(f'You have:{player_total}\\n Dealer has:{dealer_total}')\n",
    "\n"
   ]
  },
  {
   "cell_type": "code",
   "execution_count": 81,
   "metadata": {},
   "outputs": [
    {
     "data": {
      "text/plain": [
       "40"
      ]
     },
     "execution_count": 81,
     "metadata": {},
     "output_type": "execute_result"
    }
   ],
   "source": [
    "len(new_deck.all_cards)"
   ]
  },
  {
   "cell_type": "code",
   "execution_count": null,
   "metadata": {},
   "outputs": [],
   "source": []
  },
  {
   "cell_type": "code",
   "execution_count": null,
   "metadata": {},
   "outputs": [],
   "source": []
  },
  {
   "cell_type": "code",
   "execution_count": 60,
   "metadata": {},
   "outputs": [],
   "source": [
    "new_deck = Deck()\n",
    "new_deck.shuffle()\n",
    "pulled_cards = []\n",
    "for cards in range(4):\n",
    "    pulled_cards.append(new_deck.deal_one())"
   ]
  },
  {
   "cell_type": "code",
   "execution_count": 61,
   "metadata": {},
   "outputs": [
    {
     "name": "stdout",
     "output_type": "stream",
     "text": [
      "Jack of Dimonds\n",
      "Five of Hearts\n",
      "Ten of Hearts\n",
      "Ace of Hearts\n"
     ]
    }
   ],
   "source": [
    "for cards in pulled_cards:\n",
    "    print(cards)"
   ]
  },
  {
   "cell_type": "code",
   "execution_count": 62,
   "metadata": {},
   "outputs": [
    {
     "data": {
      "text/plain": [
       "48"
      ]
     },
     "execution_count": 62,
     "metadata": {},
     "output_type": "execute_result"
    }
   ],
   "source": [
    "len(new_deck.all_cards)"
   ]
  },
  {
   "cell_type": "code",
   "execution_count": null,
   "metadata": {},
   "outputs": [],
   "source": [
    "new_deck.all_cards.extend(pulled_cards)\n",
    "new_deck.shuffle"
   ]
  },
  {
   "cell_type": "code",
   "execution_count": null,
   "metadata": {},
   "outputs": [],
   "source": [
    "len(pulled_cards)"
   ]
  },
  {
   "cell_type": "code",
   "execution_count": null,
   "metadata": {},
   "outputs": [],
   "source": [
    "player_hand = []\n",
    "player_hand.append(pulled_cards.pop())\n",
    "player_hand.append(pulled_cards.pop())"
   ]
  },
  {
   "cell_type": "code",
   "execution_count": null,
   "metadata": {},
   "outputs": [],
   "source": [
    "#display and seperate hands\n",
    "print(*player_hand, sep = ',')"
   ]
  },
  {
   "cell_type": "code",
   "execution_count": null,
   "metadata": {},
   "outputs": [],
   "source": [
    "player_total = player_hand[0].value + player_hand[1].value\n",
    "print(player_total)"
   ]
  },
  {
   "cell_type": "code",
   "execution_count": null,
   "metadata": {},
   "outputs": [],
   "source": [
    "bet_amount = int(input('how much would you like to bet'))\n",
    "print(f'Ok betting {bet_amount} Good Luck')"
   ]
  },
  {
   "cell_type": "code",
   "execution_count": null,
   "metadata": {},
   "outputs": [],
   "source": [
    "game_on = True\n",
    "while game_on:\n",
    "    \n",
    "    print('WELCOME TO BLACK JACK')\n",
    "    \n",
    "    player_name = ''\n",
    "    while True:\n",
    "        player_name = input('Please enter your name')\n",
    "        if player_name.replace(' ','').isalpha() == True:\n",
    "            break\n",
    "        else:\n",
    "            print('Please enter your name no numbers or special charcters')\n",
    "            continue\n",
    "    \n",
    "    cash = ''\n",
    "    while type(cash) != int:\n",
    "        try:\n",
    "            cash = int(input(f'How much money would you like to start with?'))\n",
    "        except:\n",
    "            print('Please enter a number nothing else')\n",
    "            \n",
    "    print(f'Great thanks now you have {cash} in your account')\n",
    "    \n",
    "    new_deck = Deck()\n",
    "    new_deck.shuffle()\n",
    "    \n",
    "    # can use the try and except to make more better\n",
    "    choice = ''\n",
    "    while choice not in ['1','2']:\n",
    "        choice = input('Please choose an option \\nPlace a bet and Deal cards : press 1\\nCash Out : press 2')\n",
    "\n",
    "    while choice == '1':\n",
    "        bet_amount = ''\n",
    "        while type(bet_amount) != int:\n",
    "            try:\n",
    "                bet_amount = int(input('how much would you like to bet'))\n",
    "            except:\n",
    "                print('Please enter a number nothing else')\n",
    "        print(f'Ok betting {bet_amount} Good Luck')\n",
    "        \n",
    "        player_hand = []\n",
    "        dealer_hand = []\n",
    "        # pulled hands is full to extend back to deck\n",
    "        pulled_cards = []\n",
    "        for cards in range(4):\n",
    "            pulled_cards.append(new_deck.deal_one())\n",
    "\n",
    "        player_hand.append(pulled_cards[cards])\n",
    "        dealer_hand.append(pulled_cards[cards])\n",
    "        player_hand.append(pulled_cards[cards])\n",
    "        dealer_hand.append(pulled_cards[cards])\n",
    "\n",
    "\n",
    "        player_total = player_hand[0].value + player_hand[1].value\n",
    "        dealer_total = dealer_hand[0].value\n",
    "\n",
    "\n",
    "        print(*player_hand, sep = ',')\n",
    "        print(f'You have:{player_total}\\nDealer has:{dealer_total}')\n",
    "\n",
    "        #showing dealer total with both cards shown\n",
    "        print(dealer_hand[0])\n",
    "        \n",
    "        if player_total == 21:\n",
    "            print('Congrats you have Black Jack')\n",
    "            bet_amount *= 1.5\n",
    "            cash += bet_amount\n",
    "            print(f'You have won {bet_amount} and you currently have {cash} in total')\n",
    "            new_deck.extend(pulled_cards)\n",
    "            new_deck.shuffle\n",
    "            break\n",
    "        else:\n",
    "            hit_stay = ''\n",
    "            while True:\n",
    "                hit_stay = input('Would you like to Hit or Stay')\n",
    "                if hit_stay.upper() == 'Hit':\n",
    "                    pulled_cards.append(new_deck.deal_one())\n",
    "                    player_hand.append(pulled_cards[-1])\n",
    "                    player_total += player_hand[-1].value\n",
    "                    print(*player_hand, sep = ',')\n",
    "                    print(f'You have:{player_total}\\nDealer has:{dealer_total}')\n",
    "\n",
    "\n",
    "\n",
    "\n",
    "                    break\n",
    "                else:\n",
    "                    pass"
   ]
  },
  {
   "cell_type": "code",
   "execution_count": null,
   "metadata": {},
   "outputs": [],
   "source": [
    "choice = ''\n",
    "while choice not in ['1','2']:\n",
    "    choice = input('Please choose an option \\nPlace a bet and Deal cards : press 1\\nCash Out : press 2')"
   ]
  },
  {
   "cell_type": "code",
   "execution_count": null,
   "metadata": {},
   "outputs": [],
   "source": [
    "choice"
   ]
  },
  {
   "cell_type": "code",
   "execution_count": null,
   "metadata": {},
   "outputs": [],
   "source": [
    "type(choice)"
   ]
  },
  {
   "cell_type": "code",
   "execution_count": null,
   "metadata": {},
   "outputs": [],
   "source": [
    "# making sure money amounts are only numbers\n",
    "bet_amount = ''\n",
    "while type(bet_amount) != int:\n",
    "    try:\n",
    "        bet_amount = int(input('how much would you like to bet'))\n",
    "    except:\n",
    "        print('Please enter a number nothing else')\n",
    "print(f'Ok betting {bet_amount} Good Luck')"
   ]
  },
  {
   "cell_type": "code",
   "execution_count": null,
   "metadata": {},
   "outputs": [],
   "source": [
    "# making sure the input is only chars not special chars\n",
    "player_name = ''\n",
    "while True:\n",
    "    player_name = input('Please enter your name')\n",
    "    if player_name.replace(' ','').isalpha() == True:\n",
    "        break\n",
    "    else:\n",
    "        print('Please enter your name no numbers or special charcters')\n",
    "        continue"
   ]
  },
  {
   "cell_type": "code",
   "execution_count": 92,
   "metadata": {},
   "outputs": [
    {
     "name": "stdout",
     "output_type": "stream",
     "text": [
      "How much money would you like to start with?uhghg\n",
      "Please enter a number nothing else\n",
      "How much money would you like to start with?ihjb\n",
      "Please enter a number nothing else\n",
      "How much money would you like to start with?1234\n",
      "Great thanks now you have 1234 in your account\n"
     ]
    }
   ],
   "source": [
    "# make sure input is only numbers nothing else\n",
    "cash = ''\n",
    "while type(cash) != int:\n",
    "    try:\n",
    "        cash = int(input(f'How much money would you like to start with?'))\n",
    "    except:\n",
    "        print('Please enter a number nothing else')\n",
    "            \n",
    "print(f'Great thanks now you have {cash} in your account')"
   ]
  },
  {
   "cell_type": "code",
   "execution_count": 101,
   "metadata": {},
   "outputs": [],
   "source": [
    "def hit_stay():\n",
    "    hit_stay = ''\n",
    "    while True:\n",
    "        hit_stay = input('Would you like to Hit or Stay')\n",
    "        if hit_stay in ['hit','stay','Hit','Stay']:\n",
    "            return hit_stay.capitalize()\n",
    "        else:\n",
    "            print('Please enter a vaild word')"
   ]
  },
  {
   "cell_type": "code",
   "execution_count": 104,
   "metadata": {},
   "outputs": [
    {
     "name": "stdout",
     "output_type": "stream",
     "text": [
      "Would you like to Hit or Stayhit\n"
     ]
    }
   ],
   "source": [
    "hit_stay = hit_stay()"
   ]
  },
  {
   "cell_type": "code",
   "execution_count": 105,
   "metadata": {},
   "outputs": [
    {
     "name": "stdout",
     "output_type": "stream",
     "text": [
      "Hit\n"
     ]
    }
   ],
   "source": [
    "print(hit_stay)"
   ]
  },
  {
   "cell_type": "code",
   "execution_count": null,
   "metadata": {},
   "outputs": [],
   "source": []
  },
  {
   "cell_type": "code",
   "execution_count": 88,
   "metadata": {},
   "outputs": [
    {
     "name": "stdout",
     "output_type": "stream",
     "text": [
      "HIT\n"
     ]
    }
   ],
   "source": [
    "print(hit_stay)"
   ]
  },
  {
   "cell_type": "code",
   "execution_count": 70,
   "metadata": {},
   "outputs": [],
   "source": [
    "def start_game():\n",
    "        \n",
    "    player_hand = []\n",
    "    dealer_hand = []\n",
    "    # pulled hands is full to extend back to deck\n",
    "    pulled_cards = []\n",
    "    for cards in range(4):\n",
    "        pulled_cards.append(new_deck.deal_one())\n",
    "\n",
    "    player_hand.append(pulled_cards[cards])\n",
    "    dealer_hand.append(pulled_cards[cards])\n",
    "    player_hand.append(pulled_cards[cards])\n",
    "    dealer_hand.append(pulled_cards[cards])\n",
    "\n",
    "\n",
    "    player_total = player_hand[0].value + player_hand[1].value\n",
    "    dealer_total = dealer_hand[0].value\n",
    "\n",
    "\n",
    "    print(*player_hand, sep = ',')\n",
    "    print(f'You have:{player_total}\\nDealer has:{dealer_total}')\n",
    "\n",
    "        #showing dealer total with both cards shown\n",
    "    print(dealer_hand[0])\n",
    "    return list(player_hand), int(player_total), list(dealer_hand), int(dealer_total),"
   ]
  },
  {
   "cell_type": "code",
   "execution_count": 76,
   "metadata": {},
   "outputs": [
    {
     "name": "stdout",
     "output_type": "stream",
     "text": [
      "Jack of Clubs,Jack of Clubs\n",
      "You have:20\n",
      "Dealer has:10\n",
      "Jack of Clubs\n"
     ]
    }
   ],
   "source": [
    "new_deck = Deck()\n",
    "new_deck.shuffle\n",
    "player_hand, player_total, dealer_hand, dealer_total = start_game()"
   ]
  },
  {
   "cell_type": "code",
   "execution_count": 77,
   "metadata": {},
   "outputs": [
    {
     "name": "stdout",
     "output_type": "stream",
     "text": [
      "20\n",
      "10\n"
     ]
    }
   ],
   "source": [
    "print(player_total)\n",
    "print(dealer_total)"
   ]
  },
  {
   "cell_type": "code",
   "execution_count": 80,
   "metadata": {},
   "outputs": [
    {
     "name": "stdout",
     "output_type": "stream",
     "text": [
      "Jack of Clubs\n"
     ]
    }
   ],
   "source": [
    "print(player_hand[0])"
   ]
  },
  {
   "cell_type": "code",
   "execution_count": 16,
   "metadata": {},
   "outputs": [],
   "source": [
    "def bet():\n",
    "    bet_amount = ''\n",
    "    while type(bet_amount) != int:\n",
    "        try:\n",
    "            bet_amount = int(input('how much would you like to bet'))\n",
    "        except:\n",
    "            print('Please enter a number nothing else')\n",
    "    print(f'Ok betting {bet_amount} Good Luck')\n",
    "    return int(bet_amount)"
   ]
  },
  {
   "cell_type": "code",
   "execution_count": 19,
   "metadata": {},
   "outputs": [
    {
     "name": "stdout",
     "output_type": "stream",
     "text": [
      "how much would you like to bet200\n",
      "Ok betting 200 Good Luck\n"
     ]
    }
   ],
   "source": [
    "bet_amount = bet()"
   ]
  },
  {
   "cell_type": "code",
   "execution_count": 20,
   "metadata": {},
   "outputs": [
    {
     "name": "stdout",
     "output_type": "stream",
     "text": [
      "200\n"
     ]
    }
   ],
   "source": [
    "print(bet_amount)"
   ]
  },
  {
   "cell_type": "code",
   "execution_count": 37,
   "metadata": {},
   "outputs": [],
   "source": [
    "def play_or_cash():\n",
    "    choice = ''\n",
    "    while choice not in ['1','2']:\n",
    "        choice = input('Please choose an option \\nPlace a bet and Deal cards : press 1\\nCash Out : press 2\\n')\n",
    "    return str(choice)  "
   ]
  },
  {
   "cell_type": "code",
   "execution_count": 43,
   "metadata": {},
   "outputs": [
    {
     "name": "stdout",
     "output_type": "stream",
     "text": [
      "Please choose an option \n",
      "Place a bet and Deal cards : press 1\n",
      "Cash Out : press 2\n",
      "1\n"
     ]
    }
   ],
   "source": [
    "choice = play_or_cash()"
   ]
  },
  {
   "cell_type": "code",
   "execution_count": 51,
   "metadata": {},
   "outputs": [],
   "source": [
    "def start_up():\n",
    "    print('WELCOME TO BLACK JACK')\n",
    "    \n",
    "    player_name = ''\n",
    "    while True:\n",
    "        player_name = input('Please enter your name\\n')\n",
    "        if player_name.replace(' ','').isalpha() == True:\n",
    "            break\n",
    "        else:\n",
    "            print('Please enter your name no numbers or special charcters')\n",
    "            continue\n",
    "    \n",
    "    cash = ''\n",
    "    while type(cash) != int:\n",
    "        try:\n",
    "            cash = int(input(f'How much money would you like to start with?'))\n",
    "        except:\n",
    "            print('Please enter a number nothing else')\n",
    "            \n",
    "    print(f'Great thanks now you have {cash} in your account')\n",
    "    \n",
    "    return player_name, cash"
   ]
  },
  {
   "cell_type": "code",
   "execution_count": 52,
   "metadata": {},
   "outputs": [
    {
     "name": "stdout",
     "output_type": "stream",
     "text": [
      "WELCOME TO BLACK JACK\n",
      "Please enter your name\n",
      "Paul Avalos\n",
      "How much money would you like to start with?1000\n",
      "Great thanks now you have 1000 in your account\n"
     ]
    },
    {
     "data": {
      "text/plain": [
       "('Paul Avalos', 1000)"
      ]
     },
     "execution_count": 52,
     "metadata": {},
     "output_type": "execute_result"
    }
   ],
   "source": [
    "start_up()"
   ]
  },
  {
   "cell_type": "code",
   "execution_count": 81,
   "metadata": {},
   "outputs": [
    {
     "name": "stdout",
     "output_type": "stream",
     "text": [
      "[<__main__.Card object at 0x7f92e2c6c040>, <__main__.Card object at 0x7f92e2c6c040>]\n"
     ]
    }
   ],
   "source": [
    "print(player_hand)"
   ]
  },
  {
   "cell_type": "code",
   "execution_count": 61,
   "metadata": {},
   "outputs": [
    {
     "name": "stdout",
     "output_type": "stream",
     "text": [
      "Jack of Clubs,Jack of Clubs\n",
      "You have:20\n",
      "Dealer has:10\n",
      "Jack of Clubs\n"
     ]
    },
    {
     "data": {
      "text/plain": [
       "([<__main__.Card at 0x7f92e28b26d0>, <__main__.Card at 0x7f92e28b26d0>],\n",
       " 20,\n",
       " [<__main__.Card at 0x7f92e28b26d0>, <__main__.Card at 0x7f92e28b26d0>],\n",
       " 10)"
      ]
     },
     "execution_count": 61,
     "metadata": {},
     "output_type": "execute_result"
    }
   ],
   "source": [
    "new_deck = Deck()\n",
    "new_deck.shuffle\n",
    "start_game()"
   ]
  },
  {
   "cell_type": "code",
   "execution_count": 37,
   "metadata": {},
   "outputs": [],
   "source": [
    "def win(bet_amount,cash):\n",
    "    if player_total == 21:\n",
    "            print('Congrats you have Black Jack')\n",
    "            bet_amount *= 1.5\n",
    "            cash += bet_amount\n",
    "            print(f'You have won {bet_amount} and you currently have {cash} in total')\n",
    "    return cash"
   ]
  },
  {
   "cell_type": "code",
   "execution_count": 32,
   "metadata": {},
   "outputs": [],
   "source": [
    "player_total = 21\n",
    "bet_amount = 500"
   ]
  },
  {
   "cell_type": "code",
   "execution_count": 38,
   "metadata": {},
   "outputs": [
    {
     "name": "stdout",
     "output_type": "stream",
     "text": [
      "Congrats you have Black Jack\n",
      "You have won 750.0 and you currently have 2500.0 in total\n"
     ]
    }
   ],
   "source": [
    "cash = win(bet_amount,cash)"
   ]
  },
  {
   "cell_type": "code",
   "execution_count": 39,
   "metadata": {},
   "outputs": [
    {
     "name": "stdout",
     "output_type": "stream",
     "text": [
      "2500.0\n"
     ]
    }
   ],
   "source": [
    "print(cash)"
   ]
  },
  {
   "cell_type": "code",
   "execution_count": null,
   "metadata": {},
   "outputs": [],
   "source": []
  }
 ],
 "metadata": {
  "kernelspec": {
   "display_name": "Python 3",
   "language": "python",
   "name": "python3"
  },
  "language_info": {
   "codemirror_mode": {
    "name": "ipython",
    "version": 3
   },
   "file_extension": ".py",
   "mimetype": "text/x-python",
   "name": "python",
   "nbconvert_exporter": "python",
   "pygments_lexer": "ipython3",
   "version": "3.8.5"
  }
 },
 "nbformat": 4,
 "nbformat_minor": 4
}
