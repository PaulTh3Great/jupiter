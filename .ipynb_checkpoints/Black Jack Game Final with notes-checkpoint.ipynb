{
 "cells": [
  {
   "cell_type": "code",
   "execution_count": 19,
   "metadata": {},
   "outputs": [],
   "source": [
    "# Base for Deck and card values\n",
    "\n",
    "import random\n",
    "suits = ('Hearts','Dimonds','Spades','Clubs')\n",
    "\n",
    "ranks = ('Two','Three','Four','Five','Six','Seven','Eight','Nine','Ten','Jack','Queen','King','Ace')\n",
    "\n",
    "# need to fix ace to have value of 11 and one\n",
    "values = {'Two':2,'Three':3,'Four':4,'Five':5,'Six':6,'Seven':7,'Eight':8,'Nine':9,\n",
    "          'Ten':10,'Jack':10,'Queen':10,'King':10,'Ace':11}"
   ]
  },
  {
   "cell_type": "code",
   "execution_count": 20,
   "metadata": {},
   "outputs": [],
   "source": [
    "class Card:\n",
    "    def __init__(self,suit,rank):\n",
    "        self.suit = suit\n",
    "        self.rank = rank\n",
    "        self.value = values[rank]\n",
    "        \n",
    "    def __str__(self):\n",
    "        return self.rank + ' of ' + self.suit"
   ]
  },
  {
   "cell_type": "code",
   "execution_count": 21,
   "metadata": {},
   "outputs": [],
   "source": [
    "class Deck:\n",
    "    def __init__(self):\n",
    "        self.all_cards = []\n",
    "        \n",
    "        for suit in suits:\n",
    "            for rank in ranks:\n",
    "                created_card = Card(suit,rank)\n",
    "                self.all_cards.append(created_card)\n",
    "                \n",
    "    def shuffle(self):\n",
    "        random.shuffle(self.all_cards)\n",
    "        print('All cards have been shuffled and are ready to Deal')\n",
    "        \n",
    "    def deal_one(self):\n",
    "        return self.all_cards.pop()"
   ]
  },
  {
   "cell_type": "code",
   "execution_count": 22,
   "metadata": {},
   "outputs": [
    {
     "name": "stdout",
     "output_type": "stream",
     "text": [
      "All cards have been shuffled and are ready to Deal\n"
     ]
    }
   ],
   "source": [
    "my_deck = Deck()\n",
    "my_deck.shuffle()"
   ]
  },
  {
   "cell_type": "code",
   "execution_count": 23,
   "metadata": {
    "scrolled": true
   },
   "outputs": [
    {
     "name": "stdout",
     "output_type": "stream",
     "text": [
      "Seven of Dimonds\n",
      "Seven of Hearts\n",
      "Ace of Dimonds\n",
      "Jack of Hearts\n",
      "Nine of Spades\n",
      "Nine of Clubs\n",
      "Four of Spades\n",
      "Four of Clubs\n",
      "Queen of Clubs\n",
      "Five of Spades\n",
      "Five of Dimonds\n",
      "Six of Clubs\n",
      "Six of Spades\n",
      "Seven of Spades\n",
      "Eight of Hearts\n",
      "Jack of Dimonds\n",
      "Two of Spades\n",
      "Ten of Dimonds\n",
      "Three of Clubs\n",
      "Six of Dimonds\n",
      "Two of Dimonds\n",
      "Five of Hearts\n",
      "Ten of Hearts\n",
      "Four of Dimonds\n",
      "King of Spades\n",
      "Five of Clubs\n",
      "Ten of Spades\n",
      "King of Dimonds\n",
      "Queen of Dimonds\n",
      "Three of Hearts\n",
      "Eight of Dimonds\n",
      "Two of Hearts\n",
      "Ten of Clubs\n",
      "Queen of Spades\n",
      "Four of Hearts\n",
      "Nine of Dimonds\n",
      "King of Hearts\n",
      "Queen of Hearts\n",
      "Three of Spades\n",
      "Six of Hearts\n",
      "Ace of Hearts\n",
      "Jack of Clubs\n",
      "Nine of Hearts\n",
      "Ace of Spades\n",
      "Seven of Clubs\n",
      "Three of Dimonds\n",
      "Eight of Spades\n",
      "King of Clubs\n",
      "Two of Clubs\n",
      "Eight of Clubs\n",
      "Jack of Spades\n",
      "Ace of Clubs\n"
     ]
    }
   ],
   "source": [
    "for cards in my_deck.all_cards:\n",
    "    print(cards)"
   ]
  },
  {
   "cell_type": "code",
   "execution_count": 24,
   "metadata": {},
   "outputs": [],
   "source": [
    "# Gonna try and make alot of defs for this problem\n",
    "def start_up():\n",
    "    print('WELCOME TO BLACK JACK')\n",
    "    \n",
    "    player_name = ''\n",
    "    while True:\n",
    "        player_name = input('Please enter your name\\n')\n",
    "        if player_name.replace(' ','').isalpha() == True:\n",
    "            break\n",
    "        else:\n",
    "            print('Please enter your name no numbers or special charcters')\n",
    "            continue\n",
    "    \n",
    "    cash = ''\n",
    "    while type(cash) != int:\n",
    "        try:\n",
    "            cash = int(input(f'How much money would you like to start with?'))\n",
    "        except:\n",
    "            print('Please enter a number nothing else')\n",
    "            \n",
    "    print(f'Great thanks now you have {cash} in your account')\n",
    "    \n",
    "    return player_name, cash"
   ]
  },
  {
   "cell_type": "code",
   "execution_count": 25,
   "metadata": {},
   "outputs": [
    {
     "name": "stdout",
     "output_type": "stream",
     "text": [
      "WELCOME TO BLACK JACK\n",
      "Please enter your name\n",
      "paul\n",
      "How much money would you like to start with?109\n",
      "Great thanks now you have 109 in your account\n"
     ]
    }
   ],
   "source": [
    "player_name, cash = start_up()"
   ]
  },
  {
   "cell_type": "code",
   "execution_count": 26,
   "metadata": {},
   "outputs": [
    {
     "name": "stdout",
     "output_type": "stream",
     "text": [
      "paul\n",
      "109\n"
     ]
    }
   ],
   "source": [
    "print(player_name)\n",
    "print(cash)"
   ]
  },
  {
   "cell_type": "code",
   "execution_count": 27,
   "metadata": {},
   "outputs": [],
   "source": [
    "def play_deal():\n",
    "    choice = ''\n",
    "    while choice not in ['1','2']:\n",
    "        choice = input('Please choose an option \\nPlace a bet and Deal cards : press 1\\nCash Out : press 2\\n')\n",
    "    return choice"
   ]
  },
  {
   "cell_type": "code",
   "execution_count": 28,
   "metadata": {},
   "outputs": [
    {
     "name": "stdout",
     "output_type": "stream",
     "text": [
      "Please choose an option \n",
      "Place a bet and Deal cards : press 1\n",
      "Cash Out : press 2\n",
      "2\n"
     ]
    }
   ],
   "source": [
    "choice = play_deal()"
   ]
  },
  {
   "cell_type": "code",
   "execution_count": 29,
   "metadata": {},
   "outputs": [
    {
     "name": "stdout",
     "output_type": "stream",
     "text": [
      "2\n"
     ]
    }
   ],
   "source": [
    "print(choice)"
   ]
  },
  {
   "cell_type": "code",
   "execution_count": 30,
   "metadata": {},
   "outputs": [],
   "source": [
    "# If 2 is the input then the following message will display and break out of all game\n",
    "def cash_out():\n",
    "    print(f'Thank you for playing here if you cash out : ${cash}')"
   ]
  },
  {
   "cell_type": "code",
   "execution_count": 31,
   "metadata": {},
   "outputs": [
    {
     "name": "stdout",
     "output_type": "stream",
     "text": [
      "Thank you for playing here if you cash out : $109\n"
     ]
    }
   ],
   "source": [
    "cash_out()"
   ]
  },
  {
   "cell_type": "code",
   "execution_count": null,
   "metadata": {},
   "outputs": [],
   "source": []
  },
  {
   "cell_type": "code",
   "execution_count": 32,
   "metadata": {},
   "outputs": [],
   "source": [
    "def bet(cash):\n",
    "    bet_amount = ''\n",
    "    while type(bet_amount) != int:\n",
    "        try:\n",
    "            bet_amount = int(input('how much would you like to bet'))\n",
    "        except:\n",
    "            print('Please enter a number nothing else')\n",
    "    return bet_amount"
   ]
  },
  {
   "cell_type": "code",
   "execution_count": 33,
   "metadata": {},
   "outputs": [
    {
     "name": "stdout",
     "output_type": "stream",
     "text": [
      "how much would you like to bet500\n"
     ]
    }
   ],
   "source": [
    "bet_amount = bet(cash)"
   ]
  },
  {
   "cell_type": "code",
   "execution_count": 34,
   "metadata": {},
   "outputs": [
    {
     "name": "stdout",
     "output_type": "stream",
     "text": [
      "500\n"
     ]
    }
   ],
   "source": [
    "print(bet_amount)"
   ]
  },
  {
   "cell_type": "code",
   "execution_count": 35,
   "metadata": {},
   "outputs": [
    {
     "data": {
      "text/plain": [
       "int"
      ]
     },
     "execution_count": 35,
     "metadata": {},
     "output_type": "execute_result"
    }
   ],
   "source": [
    "type(bet_amount)"
   ]
  },
  {
   "cell_type": "code",
   "execution_count": 36,
   "metadata": {},
   "outputs": [],
   "source": [
    "def start_draw():\n",
    "    \n",
    "    player_hand = []\n",
    "    dealer_hand = []\n",
    "        # pulled hands is full to extend back to deck\n",
    "    pulled_cards = []\n",
    "    for cards in range(4):\n",
    "        pulled_cards.append(my_deck.deal_one())\n",
    "\n",
    "    player_hand.append(pulled_cards[0])\n",
    "    dealer_hand.append(pulled_cards[1])\n",
    "    player_hand.append(pulled_cards[2])\n",
    "    dealer_hand.append(pulled_cards[3])\n",
    "\n",
    "\n",
    "    player_total = player_hand[0].value + player_hand[1].value\n",
    "    dealer_total = dealer_hand[0].value\n",
    "\n",
    "\n",
    "    print(*player_hand, sep = ',')\n",
    "    print(f'You have: {player_total}\\nDealer has: {dealer_total}')\n",
    "\n",
    "        # showing dealer total with both cards shown\n",
    "    print(dealer_hand[0], ', Hidden Card')\n",
    "    return player_hand, player_total, dealer_hand, dealer_total, pulled_cards"
   ]
  },
  {
   "cell_type": "code",
   "execution_count": 37,
   "metadata": {},
   "outputs": [
    {
     "name": "stdout",
     "output_type": "stream",
     "text": [
      "Ace of Clubs,Eight of Clubs\n",
      "You have: 19\n",
      "Dealer has: 10\n",
      "Jack of Spades , Hidden Card\n"
     ]
    }
   ],
   "source": [
    "player_hand, player_total, dealer_hand, dealer_total, pulled_cards = start_draw()"
   ]
  },
  {
   "cell_type": "code",
   "execution_count": 38,
   "metadata": {},
   "outputs": [
    {
     "data": {
      "text/plain": [
       "4"
      ]
     },
     "execution_count": 38,
     "metadata": {},
     "output_type": "execute_result"
    }
   ],
   "source": [
    "len(pulled_cards)"
   ]
  },
  {
   "cell_type": "code",
   "execution_count": 39,
   "metadata": {},
   "outputs": [
    {
     "name": "stdout",
     "output_type": "stream",
     "text": [
      "Two of Clubs\n"
     ]
    }
   ],
   "source": [
    "print(pulled_cards[-1])"
   ]
  },
  {
   "cell_type": "code",
   "execution_count": 40,
   "metadata": {},
   "outputs": [
    {
     "name": "stdout",
     "output_type": "stream",
     "text": [
      "Ace of Clubs\n"
     ]
    }
   ],
   "source": [
    "print(player_hand[0])"
   ]
  },
  {
   "cell_type": "code",
   "execution_count": 41,
   "metadata": {},
   "outputs": [
    {
     "name": "stdout",
     "output_type": "stream",
     "text": [
      "Eight of Clubs\n"
     ]
    }
   ],
   "source": [
    "print(player_hand[1])"
   ]
  },
  {
   "cell_type": "code",
   "execution_count": 42,
   "metadata": {},
   "outputs": [
    {
     "name": "stdout",
     "output_type": "stream",
     "text": [
      "19\n"
     ]
    }
   ],
   "source": [
    "print(player_total)"
   ]
  },
  {
   "cell_type": "code",
   "execution_count": 43,
   "metadata": {},
   "outputs": [
    {
     "data": {
      "text/plain": [
       "int"
      ]
     },
     "execution_count": 43,
     "metadata": {},
     "output_type": "execute_result"
    }
   ],
   "source": [
    "type(player_total)"
   ]
  },
  {
   "cell_type": "code",
   "execution_count": 44,
   "metadata": {},
   "outputs": [],
   "source": [
    "# Takes in bet amount and cash then returns the amount won\n",
    "def win_21(bet_amount,cash,black_jack):\n",
    "    if player_total == 21:\n",
    "            print('Congrats you have Black Jack')\n",
    "            bet_amount *= 1.5\n",
    "            cash += bet_amount\n",
    "            print(f'You have won {bet_amount} and you currently have {cash} in total')\n",
    "            black_jack = True\n",
    "    return cash, black_jack"
   ]
  },
  {
   "cell_type": "code",
   "execution_count": 45,
   "metadata": {},
   "outputs": [],
   "source": [
    "bet_amount = 100\n",
    "cash = 1500\n",
    "black_jack = False\n",
    "cash, black_jack = win_21(bet_amount,cash,black_jack)"
   ]
  },
  {
   "cell_type": "code",
   "execution_count": 46,
   "metadata": {},
   "outputs": [
    {
     "name": "stdout",
     "output_type": "stream",
     "text": [
      "False\n"
     ]
    }
   ],
   "source": [
    "print(black_jack)"
   ]
  },
  {
   "cell_type": "code",
   "execution_count": 47,
   "metadata": {},
   "outputs": [
    {
     "data": {
      "text/plain": [
       "int"
      ]
     },
     "execution_count": 47,
     "metadata": {},
     "output_type": "execute_result"
    }
   ],
   "source": [
    "type(player_total)"
   ]
  },
  {
   "cell_type": "code",
   "execution_count": null,
   "metadata": {},
   "outputs": [],
   "source": []
  },
  {
   "cell_type": "code",
   "execution_count": 48,
   "metadata": {},
   "outputs": [],
   "source": [
    "# Ask user for option to hit or stay then makes the return a string to match\n",
    "def hit_stay():\n",
    "    player_move = ''\n",
    "    while True:\n",
    "       # hit_stay = input\n",
    "        player_move = input('Would you like to Hit or Stay?')\n",
    "    \n",
    "        if player_move in ['hit','Hit','stay','Stay']:\n",
    "            player_move = player_move.capitalize()\n",
    "            return player_move\n",
    "        else:\n",
    "            print('Please enter a valid word')\n",
    "        "
   ]
  },
  {
   "cell_type": "code",
   "execution_count": 49,
   "metadata": {},
   "outputs": [
    {
     "name": "stdout",
     "output_type": "stream",
     "text": [
      "Would you like to Hit or Stay?stay\n"
     ]
    }
   ],
   "source": [
    "move = hit_stay()"
   ]
  },
  {
   "cell_type": "code",
   "execution_count": 50,
   "metadata": {},
   "outputs": [
    {
     "name": "stdout",
     "output_type": "stream",
     "text": [
      "Stay\n"
     ]
    }
   ],
   "source": [
    "print(move)"
   ]
  },
  {
   "cell_type": "code",
   "execution_count": 51,
   "metadata": {},
   "outputs": [],
   "source": [
    "# something here is changing player_total to none type\n",
    "def hit_one_card(player_total,player_hand):\n",
    "    while True:\n",
    "        pulled_cards.append(my_deck.deal_one())\n",
    "        player_hand.append(pulled_cards[-1])\n",
    "        player_total += player_hand[-1].value\n",
    "        print(*player_hand, sep = ',')\n",
    "        if player_total == 21:\n",
    "            print('Congrats you have 21 lets see what the dealer has')\n",
    "            return player_total\n",
    "        elif player_total < 21:\n",
    "            hit_again = input(f'you have a total of {player_total}\\n would you like to Hit again? Y or N?')\n",
    "            if hit_again.upper() == 'Y':\n",
    "                pass\n",
    "            elif hit_again.upper() == 'N':\n",
    "                return player_total\n",
    "            else:\n",
    "                print('Please enter either Y or N')\n",
    "        else:\n",
    "            print(f'{player_total} :Sorry your over Dealer wins')\n",
    "            player_total = 0\n",
    "            return player_total\n"
   ]
  },
  {
   "cell_type": "code",
   "execution_count": 52,
   "metadata": {},
   "outputs": [
    {
     "name": "stdout",
     "output_type": "stream",
     "text": [
      "Ace of Clubs,Eight of Clubs,King of Clubs\n",
      "29 :Sorry your over Dealer wins\n"
     ]
    }
   ],
   "source": [
    "player_total = hit_one_card(player_total,player_hand)"
   ]
  },
  {
   "cell_type": "code",
   "execution_count": 53,
   "metadata": {},
   "outputs": [
    {
     "data": {
      "text/plain": [
       "int"
      ]
     },
     "execution_count": 53,
     "metadata": {},
     "output_type": "execute_result"
    }
   ],
   "source": [
    "type(player_total)"
   ]
  },
  {
   "cell_type": "code",
   "execution_count": 54,
   "metadata": {},
   "outputs": [
    {
     "name": "stdout",
     "output_type": "stream",
     "text": [
      "0\n"
     ]
    }
   ],
   "source": [
    "print(player_total)"
   ]
  },
  {
   "cell_type": "code",
   "execution_count": 59,
   "metadata": {},
   "outputs": [],
   "source": [
    "def dealer_turn(dealer_total,dealer_hand):\n",
    "    dealer_total += dealer_hand[-1].value\n",
    "    while True:\n",
    "        print(*dealer_hand, sep = ',')\n",
    "        print(f'Dealer has {dealer_total}')\n",
    "        if dealer_total > 21:\n",
    "            print('Dealer has busted')\n",
    "            dealer_total = 0\n",
    "            break\n",
    "        elif dealer_total <= 21 and dealer_total >= 17:\n",
    "            break\n",
    "        else:\n",
    "            pulled_cards.append(my_deck.deal_one())\n",
    "            dealer_hand.append(pulled_cards[-1])\n",
    "            dealer_total += dealer_hand[-1].value\n",
    "            continue\n",
    "    return dealer_total"
   ]
  },
  {
   "cell_type": "code",
   "execution_count": 56,
   "metadata": {},
   "outputs": [
    {
     "name": "stdout",
     "output_type": "stream",
     "text": [
      "Jack of Spades,Two of Clubs\n",
      "Dealer has 12\n",
      "Jack of Spades,Two of Clubs,Eight of Spades\n",
      "Dealer has 20\n"
     ]
    }
   ],
   "source": [
    "dealer_total = dealer_turn(dealer_total,dealer_hand)"
   ]
  },
  {
   "cell_type": "code",
   "execution_count": 75,
   "metadata": {},
   "outputs": [
    {
     "name": "stdout",
     "output_type": "stream",
     "text": [
      "18\n",
      "21\n"
     ]
    }
   ],
   "source": [
    "print(dealer_total)\n",
    "print(player_total)"
   ]
  },
  {
   "cell_type": "code",
   "execution_count": null,
   "metadata": {},
   "outputs": [],
   "source": []
  },
  {
   "cell_type": "code",
   "execution_count": 60,
   "metadata": {},
   "outputs": [],
   "source": [
    "def final_win(cash,bet_amount):\n",
    "    win_cash = bet_amount\n",
    "    if player_total > dealer_total:\n",
    "        cash += win_cash\n",
    "        print(f'Congrats you won {win_cash} and now have ${cash}')\n",
    "        return cash\n",
    "    elif dealer_total > player_total:\n",
    "        cash -= win_cash\n",
    "        print(f'Sorry you lose {win_cash} and now have ${cash}')\n",
    "        return cash\n",
    "    else:\n",
    "        print('This was a draw')\n",
    "        return cash"
   ]
  },
  {
   "cell_type": "code",
   "execution_count": 58,
   "metadata": {},
   "outputs": [
    {
     "name": "stdout",
     "output_type": "stream",
     "text": [
      "Sorry you lose 250 and now have $750\n"
     ]
    }
   ],
   "source": [
    "cash = 1000\n",
    "bet_amount = 250\n",
    "cash = final_win(cash,bet_amount)"
   ]
  },
  {
   "cell_type": "code",
   "execution_count": null,
   "metadata": {},
   "outputs": [],
   "source": []
  },
  {
   "cell_type": "code",
   "execution_count": null,
   "metadata": {},
   "outputs": [],
   "source": []
  },
  {
   "cell_type": "code",
   "execution_count": null,
   "metadata": {},
   "outputs": [],
   "source": []
  },
  {
   "cell_type": "code",
   "execution_count": 61,
   "metadata": {},
   "outputs": [
    {
     "name": "stdout",
     "output_type": "stream",
     "text": [
      "WELCOME TO BLACK JACK\n",
      "Please enter your name\n",
      "paul\n",
      "How much money would you like to start with?1000\n",
      "Great thanks now you have 1000 in your account\n",
      "Please choose an option \n",
      "Place a bet and Deal cards : press 1\n",
      "Cash Out : press 2\n",
      "1\n",
      "All cards have been shuffled and are ready to Deal\n",
      "how much would you like to bet500\n",
      "Six of Clubs,Queen of Spades\n",
      "You have: 16\n",
      "Dealer has: 8\n",
      "Eight of Clubs , Hidden Card\n",
      "Would you like to Hit or Stay?stay\n",
      "You are currently at 16 goodluck Dealers turn.\n",
      "Eight of Clubs,Ten of Dimonds\n",
      "Dealer has 18\n",
      "Sorry you lose 500 and now have $500\n",
      "Please choose an option \n",
      "Place a bet and Deal cards : press 1\n",
      "Cash Out : press 2\n",
      "2\n",
      "Thank you for playing here if you cash out : $500\n"
     ]
    }
   ],
   "source": [
    "# Thinking about game logic\n",
    "# Run first def to get name and amount of cash\n",
    "player_name, cash = start_up()\n",
    "\n",
    "while True:\n",
    "# Run choice to have a choice number 1 or 2 fro play or cash out\n",
    "    choice = play_deal()\n",
    "    \n",
    "    if choice == '1':\n",
    "        my_deck = Deck()\n",
    "        my_deck.shuffle()\n",
    "        # If they choose to play then we will deal\n",
    "        while True:\n",
    "            \n",
    "            while True:\n",
    "            # need to get the players bet\n",
    "                bet_amount = bet(cash)\n",
    "                if bet_amount > cash:\n",
    "                    print('You dont haver enough funds')\n",
    "                    continue\n",
    "                else:\n",
    "                    break\n",
    "\n",
    "                # will show the hand of player and one card of dealer\n",
    "            player_hand, player_total, dealer_hand, dealer_total, pulled_cards = start_draw()\n",
    "\n",
    "                # start as false to check and see if it changes to true meaning they won\n",
    "            black_jack = False\n",
    "\n",
    "            if player_total == 21:\n",
    "\n",
    "                    # If they win black_jack set back to false to continue onto hit or stand\n",
    "                cash, black_jack = win_21(bet_amount,cash,black_jack)\n",
    "                break\n",
    "                # if player wants to play after 1st two cards\n",
    "            elif player_total < 21:\n",
    "                move = hit_stay()\n",
    "\n",
    "                    # if they stay then goto dealer play\n",
    "                if move == 'Stay':\n",
    "                    print(f'You are currently at {player_total} goodluck Dealers turn.')\n",
    "\n",
    "                elif move == 'Hit':\n",
    "                    player_total = hit_one_card(player_total,player_hand)\n",
    "\n",
    "                    # dealer playing this gets skipped if player goes over 21\n",
    "                dealer_total = dealer_turn(dealer_total,dealer_hand)\n",
    "\n",
    "            elif player_total > 21:\n",
    "                cash = final_win(cash,bet_amount)\n",
    "                break\n",
    "\n",
    "                    # checking final win or loss to dealer\n",
    "            cash = final_win(cash,bet_amount)\n",
    "            break\n",
    "    elif choice == '2':\n",
    "        cash_out()\n",
    "        break\n",
    "            "
   ]
  },
  {
   "cell_type": "code",
   "execution_count": 79,
   "metadata": {},
   "outputs": [
    {
     "name": "stdout",
     "output_type": "stream",
     "text": [
      "20\n"
     ]
    }
   ],
   "source": [
    "print(player_total)"
   ]
  },
  {
   "cell_type": "code",
   "execution_count": 48,
   "metadata": {},
   "outputs": [
    {
     "name": "stdout",
     "output_type": "stream",
     "text": [
      "8\n"
     ]
    }
   ],
   "source": [
    "print(dealer_total)"
   ]
  },
  {
   "cell_type": "code",
   "execution_count": null,
   "metadata": {},
   "outputs": [],
   "source": []
  },
  {
   "cell_type": "code",
   "execution_count": null,
   "metadata": {},
   "outputs": [],
   "source": []
  },
  {
   "cell_type": "code",
   "execution_count": null,
   "metadata": {},
   "outputs": [],
   "source": []
  },
  {
   "cell_type": "code",
   "execution_count": null,
   "metadata": {},
   "outputs": [],
   "source": []
  },
  {
   "cell_type": "code",
   "execution_count": null,
   "metadata": {},
   "outputs": [],
   "source": [
    "game_on = True\n",
    "while game_on:\n",
    "    \n",
    "    print('WELCOME TO BLACK JACK')\n",
    "    \n",
    "    player_name = ''\n",
    "    while True:\n",
    "        player_name = input('Please enter your name')\n",
    "        if player_name.replace(' ','').isalpha() == True:\n",
    "            break\n",
    "        else:\n",
    "            print('Please enter your name no numbers or special charcters')\n",
    "            continue\n",
    "    \n",
    "    cash = ''\n",
    "    while type(cash) != int:\n",
    "        try:\n",
    "            cash = int(input(f'How much money would you like to start with?'))\n",
    "        except:\n",
    "            print('Please enter a number nothing else')\n",
    "            \n",
    "    print(f'Great thanks now you have {cash} in your account')\n",
    "    \n",
    "    \n",
    "    \n",
    "    new_deck = Deck()\n",
    "    new_deck.shuffle()\n",
    "    \n",
    "    # can use the try and except to make more better\n",
    "    choice = ''\n",
    "    while choice not in ['1','2']:\n",
    "        choice = input('Please choose an option \\nPlace a bet and Deal cards : press 1\\nCash Out : press 2')\n",
    "\n",
    "    while choice == '1':\n",
    "        bet_amount = ''\n",
    "        while type(bet_amount) != int:\n",
    "            try:\n",
    "                bet_amount = int(input('how much would you like to bet'))\n",
    "            except:\n",
    "                print('Please enter a number nothing else')\n",
    "        print(f'Ok betting {bet_amount} Good Luck')\n",
    "        \n",
    "        player_hand = []\n",
    "        dealer_hand = []\n",
    "        # pulled hands is full to extend back to deck\n",
    "        pulled_cards = []\n",
    "        for cards in range(4):\n",
    "            pulled_cards.append(new_deck.deal_one())\n",
    "\n",
    "        player_hand.append(pulled_cards[0])\n",
    "        dealer_hand.append(pulled_cards[1])\n",
    "        player_hand.append(pulled_cards[2])\n",
    "        dealer_hand.append(pulled_cards[3])\n",
    "\n",
    "\n",
    "        print(*player_hand, sep = ',')\n",
    "        player_total = player_hand[0].value + player_hand[1].value\n",
    "        \n",
    "        print(f'You have:{player_total}\\nDealer has:{dealer_total}')\n",
    "\n",
    "        #showing dealer total with both cards shown\n",
    "        print(*dealer_hand, sep = ',')\n",
    "        dealer_total = dealer_hand[0].value + dealer_hand[1].value\n",
    "        \n",
    "        print(f'You have:{player_total}\\nDealer has:{dealer_total}')\n",
    "\n",
    "        if player_total == 21:\n",
    "            print('Congrats you have Black Jack')\n",
    "            bet_amount *= 1.5\n",
    "            cash += bet_amount\n",
    "            print(f'You have won {bet_amount} and you currently have {cash} in total')\n",
    "            new_deck.extend(pulled_cards)\n",
    "            new_deck.shuffle"
   ]
  },
  {
   "cell_type": "code",
   "execution_count": null,
   "metadata": {},
   "outputs": [],
   "source": [
    "game_on = True\n",
    "while game_on:\n",
    "    \n",
    "    print('WELCOME TO BLACK JACK')\n",
    "    \n",
    "    player_name = ''\n",
    "    while True:\n",
    "        player_name = input('Please enter your name')\n",
    "        if player_name.replace(' ','').isalpha() == True:\n",
    "            break\n",
    "        else:\n",
    "            print('Please enter your name no numbers or special charcters')\n",
    "            continue\n",
    "    \n",
    "    cash = ''\n",
    "    while type(cash) != int:\n",
    "        try:\n",
    "            cash = int(input(f'How much money would you like to start with?'))\n",
    "        except:\n",
    "            print('Please enter a number nothing else')\n",
    "            \n",
    "    print(f'Great thanks now you have {cash} in your account')\n",
    "    \n",
    "    \n",
    "    \n",
    "    new_deck = Deck()\n",
    "    new_deck.shuffle()\n",
    "    \n",
    "    # can use the try and except to make more better\n",
    "    choice = ''\n",
    "    while choice not in ['1','2']:\n",
    "        choice = input('Please choose an option \\nPlace a bet and Deal cards : press 1\\nCash Out : press 2')\n",
    "\n",
    "    while choice == '1':\n",
    "        bet_amount = ''\n",
    "        while type(bet_amount) != int:\n",
    "            try:\n",
    "                bet_amount = int(input('how much would you like to bet'))\n",
    "            except:\n",
    "                print('Please enter a number nothing else')\n",
    "        print(f'Ok betting {bet_amount} Good Luck')\n",
    "        \n",
    "        player_hand = []\n",
    "        dealer_hand = []\n",
    "        # pulled hands is full to extend back to deck\n",
    "        pulled_cards = []\n",
    "        for cards in range(4):\n",
    "            pulled_cards.append(new_deck.deal_one())\n",
    "\n",
    "        player_hand.append(pulled_cards[cards])\n",
    "        dealer_hand.append(pulled_cards[cards])\n",
    "        player_hand.append(pulled_cards[cards])\n",
    "        dealer_hand.append(pulled_cards[cards])\n",
    "\n",
    "\n",
    "        player_total = player_hand[0].value + player_hand[1].value\n",
    "        dealer_total = dealer_hand[0].value\n",
    "\n",
    "\n",
    "        print(*player_hand, sep = ',')\n",
    "        print(f'You have:{player_total}\\nDealer has:{dealer_total}')\n",
    "\n",
    "        #showing dealer total with both cards shown\n",
    "        print(dealer_hand[0])\n",
    "        \n",
    "        if player_total == 21:\n",
    "            print('Congrats you have Black Jack')\n",
    "            bet_amount *= 1.5\n",
    "            cash += bet_amount\n",
    "            print(f'You have won {bet_amount} and you currently have {cash} in total')\n",
    "            new_deck.extend(pulled_cards)\n",
    "            new_deck.shuffle\n",
    "            break\n",
    "        else:\n",
    "            hit_stay = ''\n",
    "            while True:\n",
    "                hit_stay = input('Would you like to Hit or Stay')\n",
    "                if hit_stay.upper() == 'Hit':\n",
    "                    pulled_cards.append(new_deck.deal_one())\n",
    "                    player_hand.append(pulled_cards[-1])\n",
    "                    player_total += player_hand[-1].value\n",
    "                    print(*player_hand, sep = ',')\n",
    "                    print(f'You have:{player_total}\\nDealer has:{dealer_total}')\n",
    "\n",
    "\n",
    "\n",
    "\n",
    "                    break\n",
    "                else:\n",
    "                    pass"
   ]
  }
 ],
 "metadata": {
  "kernelspec": {
   "display_name": "Python 3",
   "language": "python",
   "name": "python3"
  },
  "language_info": {
   "codemirror_mode": {
    "name": "ipython",
    "version": 3
   },
   "file_extension": ".py",
   "mimetype": "text/x-python",
   "name": "python",
   "nbconvert_exporter": "python",
   "pygments_lexer": "ipython3",
   "version": "3.8.8"
  }
 },
 "nbformat": 4,
 "nbformat_minor": 4
}
